{
  "nbformat": 4,
  "nbformat_minor": 0,
  "metadata": {
    "colab": {
      "provenance": [],
      "authorship_tag": "ABX9TyOrlOqvKp1hcctEPvSyeIod",
      "include_colab_link": true
    },
    "kernelspec": {
      "name": "python3",
      "display_name": "Python 3"
    },
    "language_info": {
      "name": "python"
    }
  },
  "cells": [
    {
      "cell_type": "markdown",
      "metadata": {
        "id": "view-in-github",
        "colab_type": "text"
      },
      "source": [
        "<a href=\"https://colab.research.google.com/github/Champagnepagcois/Proyecto_AI/blob/algoritmo_KNN/Proyecto_AI_test.ipynb\" target=\"_parent\"><img src=\"https://colab.research.google.com/assets/colab-badge.svg\" alt=\"Open In Colab\"/></a>"
      ]
    },
    {
      "cell_type": "code",
      "execution_count": null,
      "metadata": {
        "colab": {
          "base_uri": "https://localhost:8080/"
        },
        "id": "eIFyAPN5i-Rx",
        "outputId": "a8253d12-3a08-4d62-d94d-f4e4118d999e"
      },
      "outputs": [
        {
          "output_type": "stream",
          "name": "stdout",
          "text": [
            "Producto inicial: Laptop HP 15 pulgadas\n",
            "Productos similares:\n",
            "- Laptop HP 15 pulgadas (Distancia: 1.18)\n",
            "- Smartphone Samsung Galaxy (Distancia: 1.56)\n"
          ]
        }
      ],
      "source": [
        "import pandas as pd\n",
        "import numpy as np\n",
        "from sklearn.feature_extraction.text import TfidfVectorizer\n",
        "from sklearn.preprocessing import MinMaxScaler, LabelEncoder\n",
        "from sklearn.neighbors import NearestNeighbors\n",
        "\n",
        "# Datos de ejemplo\n",
        "data = [\n",
        "    {\"titulo\": \"Laptop HP 15 pulgadas\", \"precio\": 1000, \"rating\": 4.5, \"imagen\": None, \"categoria\": \"Electrónica\"},\n",
        "    {\"titulo\": \"Laptop HP 15 pulgadas\", \"precio\": 10000, \"rating\": 4.5, \"imagen\": None, \"categoria\": \"Computo\"},\n",
        "    {\"titulo\": \"Smartphone Samsung Galaxy\", \"precio\": 10000, \"rating\": 4.7, \"imagen\": None, \"categoria\": \"Electrónica\"},\n",
        "    {\"titulo\": \"Audífonos inalámbricos\", \"precio\": 2000, \"rating\": 4.2, \"imagen\": None, \"categoria\": \"Accesorios\"},\n",
        "    {\"titulo\": \"Smart TV LG 55 pulgadas\", \"precio\": 15000, \"rating\": 4.8, \"imagen\": None, \"categoria\": \"Electrónica\"},\n",
        "    {\"titulo\": \"Mouse inalámbrico\", \"precio\": 500, \"rating\": 4.0, \"imagen\": None, \"categoria\": \"Accesorios\"},\n",
        "    {\"titulo\": \"Lavadora de 20 Kg\", \"precio\": 9500, \"rating\": 4.8, \"imagen\": None, \"categoria\": \"Electrónica\"},\n",
        "\n",
        "\n",
        "]\n",
        "\n",
        "# Convertir los datos en un DataFrame\n",
        "df = pd.DataFrame(data)\n",
        "\n",
        "# Preprocesar los títulos con TF-IDF\n",
        "tfidf = TfidfVectorizer(max_features=10)\n",
        "titulo_tfidf = tfidf.fit_transform(df['titulo']).toarray()\n",
        "\n",
        "# Normalizar precio y rating\n",
        "scaler = MinMaxScaler()\n",
        "scaled_features = scaler.fit_transform(df[['precio', 'rating']])\n",
        "\n",
        "# Codificar la categoría\n",
        "label_encoder = LabelEncoder()\n",
        "categoria_encoded = label_encoder.fit_transform(df['categoria']).reshape(-1, 1)\n",
        "\n",
        "# Combinar todas las características\n",
        "features = np.hstack([titulo_tfidf, scaled_features, categoria_encoded])\n",
        "\n",
        "# Crear modelo k-NN\n",
        "knn = NearestNeighbors(n_neighbors=3, metric='euclidean')\n",
        "knn.fit(features)\n",
        "\n",
        "# Encontrar productos similares al primero\n",
        "distances, indices = knn.kneighbors([features[0]])\n",
        "\n",
        "# Mostrar resultados\n",
        "print(\"Producto inicial:\", df.iloc[0]['titulo'])\n",
        "print(\"Productos similares:\")\n",
        "for idx in indices[0][1:]:\n",
        "    print(f\"- {df.iloc[idx]['titulo']} (Distancia: {distances[0][list(indices[0]).index(idx)]:.2f})\")\n"
      ]
    }
  ]
}